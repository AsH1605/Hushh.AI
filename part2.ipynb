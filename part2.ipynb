{
 "cells": [
  {
   "cell_type": "code",
   "execution_count": 55,
   "metadata": {},
   "outputs": [
    {
     "name": "stderr",
     "output_type": "stream",
     "text": [
      "python(34861) MallocStackLogging: can't turn off malloc stack logging because it was not enabled.\n",
      "huggingface/tokenizers: The current process just got forked, after parallelism has already been used. Disabling parallelism to avoid deadlocks...\n",
      "To disable this warning, you can either:\n",
      "\t- Avoid using `tokenizers` before the fork if possible\n",
      "\t- Explicitly set the environment variable TOKENIZERS_PARALLELISM=(true | false)\n"
     ]
    },
    {
     "name": "stdout",
     "output_type": "stream",
     "text": [
      "Requirement already satisfied: requests in /Users/div/miniconda3/envs/ash-assignment/lib/python3.12/site-packages (2.32.3)\n",
      "Requirement already satisfied: pydantic in /Users/div/miniconda3/envs/ash-assignment/lib/python3.12/site-packages (2.10.4)\n",
      "Requirement already satisfied: transformers in /Users/div/miniconda3/envs/ash-assignment/lib/python3.12/site-packages (4.47.1)\n",
      "Requirement already satisfied: sentence-transformers in /Users/div/miniconda3/envs/ash-assignment/lib/python3.12/site-packages (3.3.1)\n",
      "Requirement already satisfied: scikit-learn in /Users/div/miniconda3/envs/ash-assignment/lib/python3.12/site-packages (1.6.0)\n",
      "Requirement already satisfied: google-generativeai==0.5.1 in /Users/div/miniconda3/envs/ash-assignment/lib/python3.12/site-packages (0.5.1)\n",
      "Requirement already satisfied: python-dotenv in /Users/div/miniconda3/envs/ash-assignment/lib/python3.12/site-packages (1.0.1)\n",
      "Requirement already satisfied: google-ai-generativelanguage==0.6.2 in /Users/div/miniconda3/envs/ash-assignment/lib/python3.12/site-packages (from google-generativeai==0.5.1) (0.6.2)\n",
      "Requirement already satisfied: google-api-core in /Users/div/miniconda3/envs/ash-assignment/lib/python3.12/site-packages (from google-generativeai==0.5.1) (2.24.0)\n",
      "Requirement already satisfied: google-api-python-client in /Users/div/miniconda3/envs/ash-assignment/lib/python3.12/site-packages (from google-generativeai==0.5.1) (2.156.0)\n",
      "Requirement already satisfied: google-auth>=2.15.0 in /Users/div/miniconda3/envs/ash-assignment/lib/python3.12/site-packages (from google-generativeai==0.5.1) (2.37.0)\n",
      "Requirement already satisfied: protobuf in /Users/div/miniconda3/envs/ash-assignment/lib/python3.12/site-packages (from google-generativeai==0.5.1) (4.25.5)\n",
      "Requirement already satisfied: tqdm in /Users/div/miniconda3/envs/ash-assignment/lib/python3.12/site-packages (from google-generativeai==0.5.1) (4.67.1)\n",
      "Requirement already satisfied: typing-extensions in /Users/div/miniconda3/envs/ash-assignment/lib/python3.12/site-packages (from google-generativeai==0.5.1) (4.12.2)\n",
      "Requirement already satisfied: proto-plus<2.0.0dev,>=1.22.3 in /Users/div/miniconda3/envs/ash-assignment/lib/python3.12/site-packages (from google-ai-generativelanguage==0.6.2->google-generativeai==0.5.1) (1.25.0)\n",
      "Requirement already satisfied: charset-normalizer<4,>=2 in /Users/div/miniconda3/envs/ash-assignment/lib/python3.12/site-packages (from requests) (3.4.0)\n",
      "Requirement already satisfied: idna<4,>=2.5 in /Users/div/miniconda3/envs/ash-assignment/lib/python3.12/site-packages (from requests) (3.10)\n",
      "Requirement already satisfied: urllib3<3,>=1.21.1 in /Users/div/miniconda3/envs/ash-assignment/lib/python3.12/site-packages (from requests) (2.3.0)\n",
      "Requirement already satisfied: certifi>=2017.4.17 in /Users/div/miniconda3/envs/ash-assignment/lib/python3.12/site-packages (from requests) (2024.12.14)\n",
      "Requirement already satisfied: annotated-types>=0.6.0 in /Users/div/miniconda3/envs/ash-assignment/lib/python3.12/site-packages (from pydantic) (0.7.0)\n",
      "Requirement already satisfied: pydantic-core==2.27.2 in /Users/div/miniconda3/envs/ash-assignment/lib/python3.12/site-packages (from pydantic) (2.27.2)\n",
      "Requirement already satisfied: filelock in /Users/div/miniconda3/envs/ash-assignment/lib/python3.12/site-packages (from transformers) (3.16.1)\n",
      "Requirement already satisfied: huggingface-hub<1.0,>=0.24.0 in /Users/div/miniconda3/envs/ash-assignment/lib/python3.12/site-packages (from transformers) (0.27.0)\n",
      "Requirement already satisfied: numpy>=1.17 in /Users/div/miniconda3/envs/ash-assignment/lib/python3.12/site-packages (from transformers) (2.2.1)\n",
      "Requirement already satisfied: packaging>=20.0 in /Users/div/miniconda3/envs/ash-assignment/lib/python3.12/site-packages (from transformers) (24.2)\n",
      "Requirement already satisfied: pyyaml>=5.1 in /Users/div/miniconda3/envs/ash-assignment/lib/python3.12/site-packages (from transformers) (6.0.2)\n",
      "Requirement already satisfied: regex!=2019.12.17 in /Users/div/miniconda3/envs/ash-assignment/lib/python3.12/site-packages (from transformers) (2024.11.6)\n",
      "Requirement already satisfied: tokenizers<0.22,>=0.21 in /Users/div/miniconda3/envs/ash-assignment/lib/python3.12/site-packages (from transformers) (0.21.0)\n",
      "Requirement already satisfied: safetensors>=0.4.1 in /Users/div/miniconda3/envs/ash-assignment/lib/python3.12/site-packages (from transformers) (0.4.5)\n",
      "Requirement already satisfied: torch>=1.11.0 in /Users/div/miniconda3/envs/ash-assignment/lib/python3.12/site-packages (from sentence-transformers) (2.6.0.dev20241222)\n",
      "Requirement already satisfied: scipy in /Users/div/miniconda3/envs/ash-assignment/lib/python3.12/site-packages (from sentence-transformers) (1.14.1)\n",
      "Requirement already satisfied: Pillow in /Users/div/miniconda3/envs/ash-assignment/lib/python3.12/site-packages (from sentence-transformers) (11.0.0)\n",
      "Requirement already satisfied: joblib>=1.2.0 in /Users/div/miniconda3/envs/ash-assignment/lib/python3.12/site-packages (from scikit-learn) (1.4.2)\n",
      "Requirement already satisfied: threadpoolctl>=3.1.0 in /Users/div/miniconda3/envs/ash-assignment/lib/python3.12/site-packages (from scikit-learn) (3.5.0)\n",
      "Requirement already satisfied: googleapis-common-protos<2.0.dev0,>=1.56.2 in /Users/div/miniconda3/envs/ash-assignment/lib/python3.12/site-packages (from google-api-core->google-generativeai==0.5.1) (1.66.0)\n",
      "Requirement already satisfied: cachetools<6.0,>=2.0.0 in /Users/div/miniconda3/envs/ash-assignment/lib/python3.12/site-packages (from google-auth>=2.15.0->google-generativeai==0.5.1) (5.5.0)\n",
      "Requirement already satisfied: pyasn1-modules>=0.2.1 in /Users/div/miniconda3/envs/ash-assignment/lib/python3.12/site-packages (from google-auth>=2.15.0->google-generativeai==0.5.1) (0.4.1)\n",
      "Requirement already satisfied: rsa<5,>=3.1.4 in /Users/div/miniconda3/envs/ash-assignment/lib/python3.12/site-packages (from google-auth>=2.15.0->google-generativeai==0.5.1) (4.9)\n",
      "Requirement already satisfied: fsspec>=2023.5.0 in /Users/div/miniconda3/envs/ash-assignment/lib/python3.12/site-packages (from huggingface-hub<1.0,>=0.24.0->transformers) (2024.12.0)\n",
      "Requirement already satisfied: networkx in /Users/div/miniconda3/envs/ash-assignment/lib/python3.12/site-packages (from torch>=1.11.0->sentence-transformers) (3.4.2)\n",
      "Requirement already satisfied: jinja2 in /Users/div/miniconda3/envs/ash-assignment/lib/python3.12/site-packages (from torch>=1.11.0->sentence-transformers) (3.1.5)\n",
      "Requirement already satisfied: setuptools in /Users/div/miniconda3/envs/ash-assignment/lib/python3.12/site-packages (from torch>=1.11.0->sentence-transformers) (75.6.0)\n",
      "Requirement already satisfied: sympy==1.13.1 in /Users/div/miniconda3/envs/ash-assignment/lib/python3.12/site-packages (from torch>=1.11.0->sentence-transformers) (1.13.1)\n",
      "Requirement already satisfied: mpmath<1.4,>=1.1.0 in /Users/div/miniconda3/envs/ash-assignment/lib/python3.12/site-packages (from sympy==1.13.1->torch>=1.11.0->sentence-transformers) (1.3.0)\n",
      "Requirement already satisfied: httplib2<1.dev0,>=0.19.0 in /Users/div/miniconda3/envs/ash-assignment/lib/python3.12/site-packages (from google-api-python-client->google-generativeai==0.5.1) (0.22.0)\n",
      "Requirement already satisfied: google-auth-httplib2<1.0.0,>=0.2.0 in /Users/div/miniconda3/envs/ash-assignment/lib/python3.12/site-packages (from google-api-python-client->google-generativeai==0.5.1) (0.2.0)\n",
      "Requirement already satisfied: uritemplate<5,>=3.0.1 in /Users/div/miniconda3/envs/ash-assignment/lib/python3.12/site-packages (from google-api-python-client->google-generativeai==0.5.1) (4.1.1)\n",
      "Requirement already satisfied: grpcio<2.0dev,>=1.33.2 in /Users/div/miniconda3/envs/ash-assignment/lib/python3.12/site-packages (from google-api-core[grpc]!=2.0.*,!=2.1.*,!=2.10.*,!=2.2.*,!=2.3.*,!=2.4.*,!=2.5.*,!=2.6.*,!=2.7.*,!=2.8.*,!=2.9.*,<3.0.0dev,>=1.34.1->google-ai-generativelanguage==0.6.2->google-generativeai==0.5.1) (1.68.1)\n",
      "Requirement already satisfied: grpcio-status<2.0.dev0,>=1.33.2 in /Users/div/miniconda3/envs/ash-assignment/lib/python3.12/site-packages (from google-api-core[grpc]!=2.0.*,!=2.1.*,!=2.10.*,!=2.2.*,!=2.3.*,!=2.4.*,!=2.5.*,!=2.6.*,!=2.7.*,!=2.8.*,!=2.9.*,<3.0.0dev,>=1.34.1->google-ai-generativelanguage==0.6.2->google-generativeai==0.5.1) (1.62.3)\n",
      "Requirement already satisfied: pyparsing!=3.0.0,!=3.0.1,!=3.0.2,!=3.0.3,<4,>=2.4.2 in /Users/div/miniconda3/envs/ash-assignment/lib/python3.12/site-packages (from httplib2<1.dev0,>=0.19.0->google-api-python-client->google-generativeai==0.5.1) (3.2.0)\n",
      "Requirement already satisfied: pyasn1<0.7.0,>=0.4.6 in /Users/div/miniconda3/envs/ash-assignment/lib/python3.12/site-packages (from pyasn1-modules>=0.2.1->google-auth>=2.15.0->google-generativeai==0.5.1) (0.6.1)\n",
      "Requirement already satisfied: MarkupSafe>=2.0 in /Users/div/miniconda3/envs/ash-assignment/lib/python3.12/site-packages (from jinja2->torch>=1.11.0->sentence-transformers) (3.0.2)\n",
      "Note: you may need to restart the kernel to use updated packages.\n"
     ]
    }
   ],
   "source": [
    "pip install requests pydantic transformers sentence-transformers scikit-learn google-generativeai==0.5.1 python-dotenv\n"
   ]
  },
  {
   "cell_type": "code",
   "execution_count": 56,
   "metadata": {},
   "outputs": [
    {
     "name": "stderr",
     "output_type": "stream",
     "text": [
      "python(34862) MallocStackLogging: can't turn off malloc stack logging because it was not enabled.\n",
      "huggingface/tokenizers: The current process just got forked, after parallelism has already been used. Disabling parallelism to avoid deadlocks...\n",
      "To disable this warning, you can either:\n",
      "\t- Avoid using `tokenizers` before the fork if possible\n",
      "\t- Explicitly set the environment variable TOKENIZERS_PARALLELISM=(true | false)\n"
     ]
    },
    {
     "name": "stdout",
     "output_type": "stream",
     "text": [
      "Python 3.12.8\n"
     ]
    }
   ],
   "source": [
    "!python --version"
   ]
  },
  {
   "cell_type": "code",
   "execution_count": 57,
   "metadata": {},
   "outputs": [
    {
     "name": "stderr",
     "output_type": "stream",
     "text": [
      "python(34863) MallocStackLogging: can't turn off malloc stack logging because it was not enabled.\n",
      "huggingface/tokenizers: The current process just got forked, after parallelism has already been used. Disabling parallelism to avoid deadlocks...\n",
      "To disable this warning, you can either:\n",
      "\t- Avoid using `tokenizers` before the fork if possible\n",
      "\t- Explicitly set the environment variable TOKENIZERS_PARALLELISM=(true | false)\n"
     ]
    },
    {
     "name": "stdout",
     "output_type": "stream",
     "text": [
      "/Users/div/miniconda3/lib/python3.12/site-packages/conda/base/context.py:201: FutureWarning: Adding 'defaults' to channel list implicitly is deprecated and will be removed in 25.3. \n",
      "\n",
      "To remove this warning, please choose a default channel explicitly with conda's regular configuration system, e.g. by adding 'defaults' to the list of channels:\n",
      "\n",
      "  conda config --add channels defaults\n",
      "\n",
      "For more information see https://docs.conda.io/projects/conda/en/stable/user-guide/configuration/use-condarc.html\n",
      "\n",
      "  deprecated.topic(\n",
      "/Users/div/miniconda3/lib/python3.12/site-packages/conda/base/context.py:201: FutureWarning: Adding 'defaults' to channel list implicitly is deprecated and will be removed in 25.3. \n",
      "\n",
      "To remove this warning, please choose a default channel explicitly with conda's regular configuration system, e.g. by adding 'defaults' to the list of channels:\n",
      "\n",
      "  conda config --add channels defaults\n",
      "\n",
      "For more information see https://docs.conda.io/projects/conda/en/stable/user-guide/configuration/use-condarc.html\n",
      "\n",
      "  deprecated.topic(\n",
      "Channels:\n",
      " - conda-forge\n",
      " - defaults\n",
      "Platform: osx-arm64\n",
      "Collecting package metadata (repodata.json): done\n",
      "Solving environment: done\n",
      "\n",
      "# All requested packages already installed.\n",
      "\n"
     ]
    }
   ],
   "source": [
    "! conda install -c conda-forge ipywidgets"
   ]
  },
  {
   "cell_type": "code",
   "execution_count": 58,
   "metadata": {},
   "outputs": [],
   "source": [
    "import google.generativeai as genai\n",
    "import json, re\n",
    "import os\n",
    "from dotenv import load_dotenv\n",
    "\n",
    "load_dotenv()\n",
    "\n",
    "GOOGLE_API_KEY = os.getenv(\"GOOGLE_API_KEY\")\n",
    "\n",
    "genai.configure(api_key=GOOGLE_API_KEY)\n",
    "model = genai.GenerativeModel(\"gemini-1.5-flash\")"
   ]
  },
  {
   "cell_type": "code",
   "execution_count": 59,
   "metadata": {},
   "outputs": [],
   "source": [
    "def process_with_gemini(text: str):\n",
    "    \"\"\"\n",
    "    Process input text using the Gemini API and return a structured JSON output.\n",
    "    \"\"\"\n",
    "    prompt = f\"\"\"\n",
    "    Process the following text and return the output in the following JSON structure:\n",
    "    {{\n",
    "      \"title\": \"Concise title summarizing the content\",\n",
    "      \"key_points\": [\"Point 1\", \"Point 2\", \"...\"],\n",
    "      \"sentiment\": \"Positive/Neutral/Negative\",\n",
    "      \"entities\": [\"Entity1\", \"Entity2\", \"...\"]\n",
    "    }}\n",
    "    Text: {text}\n",
    "    \"\"\"\n",
    "    \n",
    "    try:\n",
    "        response = model.generate_content(prompt)\n",
    "        result = response.text\n",
    "\n",
    "        title_match = re.search(r'\"title\":\\s*\"([^\"]+)\"', result)\n",
    "        title = title_match.group(1) if title_match else \"N/A\"\n",
    "\n",
    "        key_points_match = re.search(r'\"key_points\":\\s*\\[(.*?)\\]', result)\n",
    "        key_points = [point.strip().strip('\"') for point in key_points_match.group(1).split(\",\")] if key_points_match else []\n",
    "\n",
    "        sentiment_match = re.search(r'\"sentiment\":\\s*\"([^\"]+)\"', result)\n",
    "        sentiment = sentiment_match.group(1) if sentiment_match else \"N/A\"\n",
    "\n",
    "        entities_match = re.search(r'\"entities\":\\s*\\[(.*?)\\]', result)\n",
    "        entities = [entity.strip().strip('\"') for entity in entities_match.group(1).split(\",\")] if entities_match else []\n",
    "\n",
    "        json_output = {\n",
    "            \"title\": title,\n",
    "            \"key_points\": key_points,\n",
    "            \"sentiment\": sentiment,\n",
    "            \"entities\": entities\n",
    "        }\n",
    "        return json.dumps(json_output, indent=4)  \n",
    "\n",
    "    except Exception as e:\n",
    "        print(f\"Error processing with Gemini API: {e}\")\n",
    "        return json.dumps({\"error\": \"Failed to process text\", \"details\": str(e)})"
   ]
  },
  {
   "cell_type": "code",
   "execution_count": 60,
   "metadata": {},
   "outputs": [],
   "source": [
    "from pydantic import BaseModel, ValidationError\n",
    "from typing import List\n",
    "\n",
    "class ProcessedData(BaseModel):\n",
    "    title: str\n",
    "    key_points: List[str]\n",
    "    sentiment: str\n",
    "    entities: List[str]\n",
    "\n",
    "def validate_response(data: dict):\n",
    "    try:\n",
    "        processed = ProcessedData(**data)\n",
    "        return processed\n",
    "    except ValidationError as e:\n",
    "        print(\"Validation Error:\", e.json())\n",
    "        return None"
   ]
  },
  {
   "cell_type": "code",
   "execution_count": 61,
   "metadata": {},
   "outputs": [],
   "source": [
    "from transformers import pipeline\n",
    "\n",
    "def process_with_local_model(text: str):\n",
    "    model_pipeline = pipeline(\"text2text-generation\", model=\"t5-large\")\n",
    "    prompt = f\"\"\"\n",
    "    Process the following text and return the output in the following JSON structure:\n",
    "    {{\n",
    "      \"title\": \"Concise title summarizing the content\",\n",
    "      \"key_points\": [\"Point 1\", \"Point 2\", \"...\"],\n",
    "      \"sentiment\": \"Positive/Neutral/Negative\",\n",
    "      \"entities\": [\"Entity1\", \"Entity2\", \"...\"]\n",
    "    }}\n",
    "    Text: {text}\n",
    "    \"\"\"\n",
    "    # print(prompt)\n",
    "    response = model_pipeline(\n",
    "        prompt,\n",
    "        do_sample=True,\n",
    "        # max_length=1024,\n",
    "        # temperature=0.7\n",
    "    )\n",
    "    # print(response)\n",
    "    return response[0]['generated_text']"
   ]
  },
  {
   "cell_type": "code",
   "execution_count": 62,
   "metadata": {},
   "outputs": [],
   "source": [
    "import time\n",
    "import random\n",
    "\n",
    "def api_request_with_retry(request_func, *args, retries=3, backoff_factor=0.3):\n",
    "    for attempt in range(retries):\n",
    "        try:\n",
    "            return request_func(*args)\n",
    "        except Exception as e:\n",
    "            if attempt < retries - 1:\n",
    "                time.sleep(backoff_factor * (2 ** attempt) + random.uniform(0, 0.1))\n",
    "            else:\n",
    "                print(\"API request failed:\", e)\n",
    "                return None"
   ]
  },
  {
   "cell_type": "code",
   "execution_count": 63,
   "metadata": {},
   "outputs": [],
   "source": [
    "from sklearn.metrics.pairwise import cosine_similarity\n",
    "from sentence_transformers import SentenceTransformer\n",
    "\n",
    "def compare_outputs(api_output, local_output):\n",
    "    model = SentenceTransformer('all-MiniLM-L6-v2')\n",
    "    api_embedding = model.encode(\" \".join(api_output.get(\"key_points\", [])))\n",
    "    local_embedding = model.encode(\" \".join(local_output.get(\"key_points\", [])))\n",
    "\n",
    "    similarity = cosine_similarity([api_embedding], [local_embedding])[0][0]\n",
    "    print(\"Semantic Similarity:\", similarity)\n",
    "\n",
    "    print(\"API Sentiment:\", api_output.get(\"sentiment\"))\n",
    "    print(\"Local Sentiment:\", local_output.get(\"sentiment\"))"
   ]
  },
  {
   "cell_type": "code",
   "execution_count": 64,
   "metadata": {},
   "outputs": [
    {
     "name": "stdout",
     "output_type": "stream",
     "text": [
      "Gemini Output:\n",
      "{\n",
      "    \"title\": \"iPhone 15 Launch: Positive Fan Reaction, Price Concerns\",\n",
      "    \"key_points\": [\n",
      "        \"Apple launched the iPhone 15.\",\n",
      "        \"Fans are excited about the improved camera and battery life.\",\n",
      "        \"Critics cite high price as a concern.\"\n",
      "    ],\n",
      "    \"sentiment\": \"Neutral\",\n",
      "    \"entities\": [\n",
      "        \"Apple\",\n",
      "        \"iPhone 15\"\n",
      "    ]\n",
      "}\n"
     ]
    },
    {
     "name": "stderr",
     "output_type": "stream",
     "text": [
      "Device set to use mps:0\n"
     ]
    },
    {
     "name": "stdout",
     "output_type": "stream",
     "text": [
      "Local Output:\n",
      "iPhone 15 This week, Apple officially introduced a new iPhone. Fans are excited about its improved\n",
      "Generated text from local model did not pass the validation __main__.ProcessedData() argument after ** must be a mapping, not str\n"
     ]
    }
   ],
   "source": [
    "import os\n",
    "from transformers import AutoModelForSeq2SeqLM, AutoTokenizer\n",
    "\n",
    "model_name = \"t5-large\"\n",
    "model_path=\"./t5-large\"\n",
    "\n",
    "if not os.path.exists(model_path):\n",
    "    # model_pipeline = pipeline(\"text2text-generation\", model=\"tuner007/pegasus_paraphrase_large\")\n",
    "    # model_pipeline.save_pretrained(model_path)\n",
    "    localmodel = AutoModelForSeq2SeqLM.from_pretrained(model_name)\n",
    "    tokenizer = AutoTokenizer.from_pretrained(model_name)\n",
    "    localmodel.save_pretrained(model_path)\n",
    "    tokenizer.save_pretrained(model_path)\n",
    "\n",
    "\n",
    "if __name__ == \"__main__\":\n",
    "    raw_text = \"Apple announced the launch of its new iPhone 15 today. Fans are excited about its enhanced camera and longer battery life. Critics, however, feel that the price point is too high.\"\n",
    "\n",
    "    gemini_output = process_with_gemini(raw_text)\n",
    "    print(\"Gemini Output:\")\n",
    "    print(gemini_output)\n",
    "    if isinstance(gemini_output, str):\n",
    "        gemini_output = json.loads(gemini_output) \n",
    "\n",
    "    validated_gemini_output = validate_response(gemini_output)\n",
    "\n",
    "    local_output = process_with_local_model(raw_text)\n",
    "    print(\"Local Output:\")\n",
    "    print(local_output)\n",
    "\n",
    "    try:\n",
    "        validated_local_output = validate_response(local_output)\n",
    "        if validated_gemini_output and validated_local_output:\n",
    "            compare_outputs(validated_gemini_output.dict(), validated_local_output.dict())\n",
    "    except Exception as e:\n",
    "        print(\"Generated text from local model did not pass the validation\", e)\n"
   ]
  }
 ],
 "metadata": {
  "kernelspec": {
   "display_name": "ash-assignment",
   "language": "python",
   "name": "python3"
  },
  "language_info": {
   "codemirror_mode": {
    "name": "ipython",
    "version": 3
   },
   "file_extension": ".py",
   "mimetype": "text/x-python",
   "name": "python",
   "nbconvert_exporter": "python",
   "pygments_lexer": "ipython3",
   "version": "3.12.8"
  }
 },
 "nbformat": 4,
 "nbformat_minor": 2
}
